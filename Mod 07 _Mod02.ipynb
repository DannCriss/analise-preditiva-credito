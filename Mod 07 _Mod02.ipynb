{
 "cells": [
  {
   "cell_type": "markdown",
   "metadata": {},
   "source": [
    "# Módulo 07 - Tarefa 02\n",
    "\n",
    "#### 1) Carregue a base e garanta que a base está como deveria.\n",
    "\n",
    "Considere a base que você ajustou na lição passada. Carregue-a. Caso ainda haja alguma pendência, ajuste - lembre-se de que o scikitlearn não recebe variáveis em formato string, somente numéricas, e não aceita '*missings*'. \n",
    "\n",
    "- Separe 70% da base para treinamento e 30% para validação. Cada uma dessas partes terá dois objetos, um armazenando a variável resposta ```mau```e outro armazenando as variáveis explicativas (lembrando: sem variáveis string, já com as dummies)."
   ]
  },
  {
   "cell_type": "code",
   "execution_count": 13,
   "metadata": {},
   "outputs": [
    {
     "name": "stdout",
     "output_type": "stream",
     "text": [
      "  sexo posse_de_veiculo posse_de_imovel  qtd_filhos            tipo_renda  \\\n",
      "0    M                Y               Y           0               Working   \n",
      "1    F                N               Y           0  Commercial associate   \n",
      "2    F                N               Y           0  Commercial associate   \n",
      "3    M                Y               Y           0               Working   \n",
      "4    F                Y               N           0               Working   \n",
      "\n",
      "                        educacao          estado_civil    tipo_residencia  \\\n",
      "0  Secondary / secondary special               Married  House / apartment   \n",
      "1  Secondary / secondary special  Single / not married  House / apartment   \n",
      "2  Secondary / secondary special  Single / not married  House / apartment   \n",
      "3               Higher education               Married  House / apartment   \n",
      "4              Incomplete higher               Married  House / apartment   \n",
      "\n",
      "       idade  tempo_emprego  possui_celular  possui_fone_comercial  \\\n",
      "0  58.832877       3.106849               1                      0   \n",
      "1  52.356164       8.358904               1                      0   \n",
      "2  52.356164       8.358904               1                      0   \n",
      "3  46.224658       2.106849               1                      1   \n",
      "4  29.230137       3.021918               1                      0   \n",
      "\n",
      "   possui_fone  possui_email  qt_pessoas_residencia    mau  \n",
      "0            0             0                    2.0  False  \n",
      "1            1             1                    1.0  False  \n",
      "2            1             1                    1.0  False  \n",
      "3            1             1                    2.0  False  \n",
      "4            0             0                    2.0  False  \n",
      "Shape do conjunto de treinamento (X_train): (11655, 15)\n",
      "Shape do conjunto de validação (X_val): (4995, 15)\n",
      "Shape do conjunto de treinamento (y_train): (11655,)\n",
      "Shape do conjunto de validação (y_val): (4995,)\n"
     ]
    }
   ],
   "source": [
    "import pandas as pd\n",
    "from sklearn.model_selection import train_test_split\n",
    "\n",
    "# Carregando o arquivo CSV\n",
    "df = pd.read_csv('demo01.csv')\n",
    "df = pd.read_csv(file_path)\n",
    "file_path = 'demo01.csv'\n",
    "\n",
    "\n",
    "# Verificando as primeiras linhas para garantir que carregou corretamente\n",
    "print(df.head())\n",
    "\n",
    "# Separando as variáveis explicativas (X) e a variável resposta (y)\n",
    "X = df.drop(columns=['mau'])\n",
    "y = df['mau']\n",
    "\n",
    "# Dividindo os dados em treinamento (70%) e validação (30%)\n",
    "X_train, X_val, y_train, y_val = train_test_split(X, y, test_size=0.3, random_state=42)\n",
    "\n",
    "# Verificando as dimensões dos conjuntos\n",
    "print(\"Shape do conjunto de treinamento (X_train):\", X_train.shape)\n",
    "print(\"Shape do conjunto de validação (X_val):\", X_val.shape)\n",
    "print(\"Shape do conjunto de treinamento (y_train):\", y_train.shape)\n",
    "print(\"Shape do conjunto de validação (y_val):\", y_val.shape)"
   ]
  },
  {
   "cell_type": "markdown",
   "metadata": {},
   "source": [
    "#### 2) Vamos para o modelo:\n",
    "\n",
    "1. Defina um objeto com a função da árvore de decisão vista em aula.\n",
    "2. Treine o modelo com os dados que você separou para treinamento.\n",
    "3. Visualize a árvore. Talvez você queira aumentar um pouco a figura.\n",
    "4. Produza uma visualização da matriz de classificação (ou matriz de confusão) - coloque os rótulos como \"aprovados\" e \"reprovados\" - pois afinal de contas, são essas as decisões que se podem tomar com propostas de crédito.\n",
    "5. Calcule a acurácia na base de treinamento"
   ]
  },
  {
   "cell_type": "code",
   "execution_count": 10,
   "metadata": {},
   "outputs": [
    {
     "name": "stdout",
     "output_type": "stream",
     "text": [
      "Acurácia no conjunto de treinamento: 0.9912\n",
      "Matriz de Confusão - Dados de Validação:\n",
      "[[4813   74]\n",
      " [  80   28]]\n"
     ]
    }
   ],
   "source": [
    "import pandas as pd\n",
    "from sklearn.model_selection import train_test_split\n",
    "from sklearn.tree import DecisionTreeClassifier\n",
    "from sklearn.metrics import accuracy_score, confusion_matrix\n",
    "\n",
    "# Carregar o dataset\n",
    "data = pd.read_csv('demo01.csv')\n",
    "\n",
    "# Converter variáveis categóricas em variáveis dummy\n",
    "data = pd.get_dummies(data, drop_first=True)  # drop_first=True para evitar multicolinearidade\n",
    "\n",
    "# Separar variáveis explicativas (X) e variável resposta (y)\n",
    "X = data.drop('mau', axis=1)\n",
    "y = data['mau']\n",
    "\n",
    "# Dividir os dados em treinamento e validação\n",
    "X_train, X_val, y_train, y_val = train_test_split(X, y, test_size=0.3, random_state=42)\n",
    "\n",
    "# Definir e treinar o modelo de Árvore de Decisão\n",
    "dt_model = DecisionTreeClassifier(random_state=42)\n",
    "dt_model.fit(X_train, y_train)\n",
    "\n",
    "# Prever no conjunto de treinamento e calcular acurácia\n",
    "y_train_pred = dt_model.predict(X_train)\n",
    "train_accuracy = accuracy_score(y_train, y_train_pred)\n",
    "print(f'Acurácia no conjunto de treinamento: {train_accuracy:.4f}')\n",
    "\n",
    "# Plotar matriz de confusão\n",
    "y_val_pred = dt_model.predict(X_val)\n",
    "cm = confusion_matrix(y_val, y_val_pred)\n",
    "print(f'Matriz de Confusão - Dados de Validação:\\n{cm}')"
   ]
  },
  {
   "cell_type": "markdown",
   "metadata": {},
   "source": [
    "#### 3) Vamos avaliar o modelo na base de testes\n",
    "\n",
    "1. Classifique a base de teste de acordo com a árvore que você treinou no item 2.\n",
    "2. Produza a visualização da matriz de confusão para a base de teste.\n",
    "3. Calcule a acurácia da base de teste. Compare com a acurácia da base de treinamento.\n",
    "4. Treine uma nova árvore com número mínimo de observações por folha de 5 e máximo de profundidade de 10. Use o random_state = 123. Avalie a matriz de classificação. Observe a distribuição da predição - qual a proporção de proponentes foram classificados como 'maus'?\n",
    "5. Como ficaria a acurácia se você classificasse todos os contratos como 'bons'?"
   ]
  },
  {
   "cell_type": "code",
   "execution_count": 11,
   "metadata": {},
   "outputs": [
    {
     "name": "stdout",
     "output_type": "stream",
     "text": [
      "Matriz de Confusão - Base de Teste:\n",
      "[[16170    90]\n",
      " [  166   224]]\n",
      "Acurácia na base de teste: 0.9846\n",
      "Acurácia na base de treinamento: 0.9912\n"
     ]
    }
   ],
   "source": [
    "import pandas as pd\n",
    "from sklearn.tree import DecisionTreeClassifier\n",
    "from sklearn.metrics import confusion_matrix, accuracy_score\n",
    "\n",
    "# Carregar a base de teste\n",
    "data_test = pd.read_csv('demo01.csv')\n",
    "\n",
    "# Converter variáveis categóricas em variáveis dummy\n",
    "data_test = pd.get_dummies(data_test, drop_first=True)\n",
    "\n",
    "# Separar variáveis explicativas (X_test) e variável resposta (y_test)\n",
    "X_test = data_test.drop('mau', axis=1)\n",
    "y_test = data_test['mau']\n",
    "\n",
    "# Usar o modelo treinado para prever na base de teste\n",
    "y_test_pred = dt_model.predict(X_test)\n",
    "\n",
    "# Matriz de Confusão para a base de teste\n",
    "cm_test = confusion_matrix(y_test, y_test_pred)\n",
    "print(f'Matriz de Confusão - Base de Teste:\\n{cm_test}')\n",
    "\n",
    "# Acurácia na base de teste\n",
    "accuracy_test = accuracy_score(y_test, y_test_pred)\n",
    "print(f'Acurácia na base de teste: {accuracy_test:.4f}')\n",
    "\n",
    "# Comparação com a acurácia na base de treinamento (anteriormente calculada)\n",
    "print(f'Acurácia na base de treinamento: {train_accuracy:.4f}')"
   ]
  },
  {
   "cell_type": "code",
   "execution_count": 12,
   "metadata": {},
   "outputs": [
    {
     "name": "stdout",
     "output_type": "stream",
     "text": [
      "Nova Matriz de Confusão - Base de Teste:\n",
      "[[16211    49]\n",
      " [  336    54]]\n",
      "Proporção de proponentes classificados como \"maus\" na nova previsão: 0.0062\n",
      "Acurácia na base de teste com a nova árvore: 0.9769\n"
     ]
    }
   ],
   "source": [
    "# Treinamento de uma nova árvore com parâmetros específicos\n",
    "dt_model_new = DecisionTreeClassifier(min_samples_leaf=5, max_depth=10, random_state=123)\n",
    "dt_model_new.fit(X_train, y_train)\n",
    "\n",
    "# Previsão na base de teste com a nova árvore\n",
    "y_test_pred_new = dt_model_new.predict(X_test)\n",
    "\n",
    "# Matriz de Confusão para a nova árvore na base de teste\n",
    "cm_test_new = confusion_matrix(y_test, y_test_pred_new)\n",
    "print(f'Nova Matriz de Confusão - Base de Teste:\\n{cm_test_new}')\n",
    "\n",
    "# Proporção de proponentes classificados como 'maus' na nova previsão\n",
    "prop_maus_new = sum(y_test_pred_new) / len(y_test_pred_new)\n",
    "print(f'Proporção de proponentes classificados como \"maus\" na nova previsão: {prop_maus_new:.4f}')\n",
    "\n",
    "# Acurácia na base de teste com a nova árvore\n",
    "accuracy_test_new = accuracy_score(y_test, y_test_pred_new)\n",
    "print(f'Acurácia na base de teste com a nova árvore: {accuracy_test_new:.4f}')"
   ]
  },
  {
   "cell_type": "code",
   "execution_count": null,
   "metadata": {},
   "outputs": [],
   "source": []
  }
 ],
 "metadata": {
  "kernelspec": {
   "display_name": "Python 3 (ipykernel)",
   "language": "python",
   "name": "python3"
  },
  "language_info": {
   "codemirror_mode": {
    "name": "ipython",
    "version": 3
   },
   "file_extension": ".py",
   "mimetype": "text/x-python",
   "name": "python",
   "nbconvert_exporter": "python",
   "pygments_lexer": "ipython3",
   "version": "3.11.7"
  }
 },
 "nbformat": 4,
 "nbformat_minor": 4
}
